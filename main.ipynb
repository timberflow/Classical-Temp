{
 "cells": [
  {
   "cell_type": "code",
   "execution_count": 1,
   "metadata": {},
   "outputs": [],
   "source": [
    "import torch\n",
    "import random\n",
    "import numpy as np\n",
    "import torch.optim as optim\n",
    "\n",
    "from transformers import AutoTokenizer, AutoModel\n",
    "from models.nlu_model import NLUModelForClassification, NLUModelForMultiChoice\n",
    "from models.nlu_data_loader import get_dataloader\n",
    "from models.loss_function import CrossEntropyLoss, MultiChoiceCrossEntropyLoss\n",
    "from models.trainer import Trainer\n",
    "from utils.logging import setup_logger"
   ]
  },
  {
   "cell_type": "code",
   "execution_count": 2,
   "metadata": {},
   "outputs": [],
   "source": [
    "batch_size = 8\n",
    "task = \"classification\"\n",
    "device = \"cuda\"\n",
    "path = \"./bert_data\"\n",
    "model_path = \"./bert_model/xlm-roberta-base/\"\n",
    "ckpt_path = \"./bert_model/checkpoint/\"\n",
    "logfile = \"./log/logfile.txt\"\n",
    "\n",
    "def set_seed(seed = 7):\n",
    "    torch.manual_seed(seed)\n",
    "    random.seed(seed)\n",
    "    np.random.seed(seed)"
   ]
  },
  {
   "cell_type": "code",
   "execution_count": 3,
   "metadata": {},
   "outputs": [
    {
     "name": "stderr",
     "output_type": "stream",
     "text": [
      "Some weights of the model checkpoint at ./bert_model/xlm-roberta-base/ were not used when initializing XLMRobertaModel: ['lm_head.decoder.weight', 'lm_head.layer_norm.bias', 'lm_head.dense.weight', 'lm_head.layer_norm.weight', 'lm_head.dense.bias', 'lm_head.bias']\n",
      "- This IS expected if you are initializing XLMRobertaModel from the checkpoint of a model trained on another task or with another architecture (e.g. initializing a BertForSequenceClassification model from a BertForPreTraining model).\n",
      "- This IS NOT expected if you are initializing XLMRobertaModel from the checkpoint of a model that you expect to be exactly identical (initializing a BertForSequenceClassification model from a BertForSequenceClassification model).\n",
      "  0%|          | 16/5082 [00:06<36:03,  2.34it/s] \n"
     ]
    },
    {
     "ename": "KeyboardInterrupt",
     "evalue": "",
     "output_type": "error",
     "traceback": [
      "\u001b[1;31m---------------------------------------------------------------------------\u001b[0m",
      "\u001b[1;31mKeyboardInterrupt\u001b[0m                         Traceback (most recent call last)",
      "Cell \u001b[1;32mIn[3], line 54\u001b[0m\n\u001b[0;32m     42\u001b[0m trainer \u001b[39m=\u001b[39m Trainer(\n\u001b[0;32m     43\u001b[0m     model \u001b[39m=\u001b[39m model,\n\u001b[0;32m     44\u001b[0m     loss_func \u001b[39m=\u001b[39m CrossEntropyLoss(),\n\u001b[1;32m   (...)\u001b[0m\n\u001b[0;32m     51\u001b[0m     logger \u001b[39m=\u001b[39m setup_logger(logfile),\n\u001b[0;32m     52\u001b[0m )\n\u001b[0;32m     53\u001b[0m \u001b[39m# start training\u001b[39;00m\n\u001b[1;32m---> 54\u001b[0m trainer\u001b[39m.\u001b[39;49mtrain()\n\u001b[0;32m     56\u001b[0m torch\u001b[39m.\u001b[39msave(model\u001b[39m.\u001b[39mstate_dict(), ckpt_path)\n",
      "File \u001b[1;32ml:\\Project\\国泰君安2023.7\\NLU-Ranking\\models\\trainer.py:50\u001b[0m, in \u001b[0;36mTrainer.train\u001b[1;34m(self, run_eval)\u001b[0m\n\u001b[0;32m     48\u001b[0m     num_train \u001b[39m+\u001b[39m\u001b[39m=\u001b[39m \u001b[39m1\u001b[39m\n\u001b[0;32m     49\u001b[0m     loss_total \u001b[39m+\u001b[39m\u001b[39m=\u001b[39m loss\u001b[39m.\u001b[39mitem()\n\u001b[1;32m---> 50\u001b[0m     ppl_total \u001b[39m+\u001b[39m\u001b[39m=\u001b[39m math\u001b[39m.\u001b[39mexp(loss\u001b[39m.\u001b[39;49mitem())\n\u001b[0;32m     52\u001b[0m epoch_duration \u001b[39m=\u001b[39m time\u001b[39m.\u001b[39mtime() \u001b[39m-\u001b[39m epoch_start_time\n\u001b[0;32m     53\u001b[0m \u001b[39mself\u001b[39m\u001b[39m.\u001b[39mlogger\u001b[39m.\u001b[39minfo(\u001b[39mf\u001b[39m\u001b[39m\"\u001b[39m\u001b[39mEpoch \u001b[39m\u001b[39m{\u001b[39;00mi\u001b[39m}\u001b[39;00m\u001b[39m finished. Time consumption: \u001b[39m\u001b[39m{\u001b[39;00mepoch_duration\u001b[39m}\u001b[39;00m\u001b[39ms.\u001b[39m\u001b[39m\"\u001b[39m)\n",
      "\u001b[1;31mKeyboardInterrupt\u001b[0m: "
     ]
    }
   ],
   "source": [
    "set_seed()\n",
    "\n",
    "tokenizer = AutoTokenizer.from_pretrained(model_path)\n",
    "model = AutoModel.from_pretrained(model_path)\n",
    "# model = NLUModelForMultiChoice(model)\n",
    "model = NLUModelForClassification(model)\n",
    "model.to(device)\n",
    "\n",
    "\n",
    "# dataloader = SingleBatchNLULoader(path, \"train\", tokenizer, shuffle=True, device=\"cuda\")\n",
    "dataloader = get_dataloader(\n",
    "    path = path, \n",
    "    task = task, \n",
    "    split = \"train\", \n",
    "    tokenizer = tokenizer, \n",
    "    batch_size = batch_size, \n",
    "    device = device\n",
    ")\n",
    "\n",
    "# set up optimizer\n",
    "params_no_decay = []\n",
    "params_to_decay = []\n",
    "for name, param in model.named_parameters():\n",
    "    if not param.requires_grad:\n",
    "        continue\n",
    "    elif (param.dim() == 1) or name.endswith(\".bias\"):\n",
    "        params_no_decay += [param]\n",
    "    else:\n",
    "        params_to_decay += [param]\n",
    "\n",
    "optimizer = optim.AdamW(\n",
    "    params = [{\"params\":params_no_decay, \"weight_decay\":0.}, {\"params\":params_to_decay, \"weight_decay\":1e-4}],\n",
    "    lr = 5e-4,\n",
    "    betas = (0.9, 0.999)\n",
    ")\n",
    "# set up scheduler\n",
    "scheduler = optim.lr_scheduler.CosineAnnealingLR(\n",
    "    optimizer = optimizer,\n",
    "    T_max = 1,\n",
    ")\n",
    "# set up trainer\n",
    "trainer = Trainer(\n",
    "    model = model,\n",
    "    loss_func = CrossEntropyLoss(),\n",
    "    optimizer = optimizer,\n",
    "    scheduler = scheduler,\n",
    "    num_epoch = 5,\n",
    "    train_dataloader = dataloader,\n",
    "    eval_dataloader = None,\n",
    "    checkpoint_path = None,\n",
    "    logger = setup_logger(logfile),\n",
    ")\n",
    "# start training\n",
    "trainer.train()\n",
    "\n",
    "torch.save(model.state_dict(), ckpt_path)"
   ]
  }
 ],
 "metadata": {
  "kernelspec": {
   "display_name": "base",
   "language": "python",
   "name": "python3"
  },
  "language_info": {
   "codemirror_mode": {
    "name": "ipython",
    "version": 3
   },
   "file_extension": ".py",
   "mimetype": "text/x-python",
   "name": "python",
   "nbconvert_exporter": "python",
   "pygments_lexer": "ipython3",
   "version": "3.10.9"
  },
  "orig_nbformat": 4
 },
 "nbformat": 4,
 "nbformat_minor": 2
}
